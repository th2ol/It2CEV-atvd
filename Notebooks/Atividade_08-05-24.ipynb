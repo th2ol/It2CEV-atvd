{
 "cells": [
  {
   "cell_type": "code",
   "execution_count": 4,
   "metadata": {},
   "outputs": [
    {
     "name": "stdout",
     "output_type": "stream",
     "text": [
      "O preço total da compra com 10% de desconto é 459.0 reais.\n"
     ]
    }
   ],
   "source": [
    "#Questão 01: \n",
    "\n",
    "valores = []\n",
    "produto1 = float(input(\"Preço do produto: \"))\n",
    "produto2 = float(input(\"Preço do produto: \"))\n",
    "produto3 = float(input(\"Preço do produto: \"))\n",
    "produto4 = float(input(\"Preço do produto: \"))\n",
    "produto5 = float(input(\"Preço do produto: \"))\n",
    "\n",
    "valores.append(produto1)\n",
    "valores.append(produto2)\n",
    "valores.append(produto3)\n",
    "valores.append(produto4)\n",
    "valores.append(produto5)\n",
    "\n",
    "if sum(valores) > 500:\n",
    "    print(f'O preço total da compra com 10% de desconto é {sum(valores) - sum(valores)/10} reais.')\n",
    "\n",
    "else:\n",
    "    print(f'O preço total da compra é {sum(valores)}')\n"
   ]
  },
  {
   "cell_type": "code",
   "execution_count": 15,
   "metadata": {},
   "outputs": [
    {
     "name": "stdout",
     "output_type": "stream",
     "text": [
      "A frase que você digitou foi: \"Não, não quero comer agora!\"  e ela tem 5 palavras.\n"
     ]
    }
   ],
   "source": [
    "#Questãpo 02:\n",
    "\n",
    "frase = input(\"Digite uma frase: \")\n",
    "\n",
    "componentes = frase.split()\n",
    "numero = len(componentes)\n",
    "print(f'A frase que você digitou foi: \"{frase}\"  e ela tem {numero} palavras.')\n"
   ]
  },
  {
   "cell_type": "code",
   "execution_count": null,
   "metadata": {},
   "outputs": [],
   "source": [
    "#Questão 03:\n",
    "\n",
    "frase = \"python é uma linguagem de progamação poderosa e fácil de aprender A.\"\n",
    "print(frase)\n",
    "\n",
    "print()\n",
    "\n",
    "for letras in frase:\n",
    "    if \"a\" or \"e\" or \"i\" in letras:\n",
    "        frasen = frase.replace(\"a\" ,\"*\")\n",
    "\n",
    "print(frasen)"
   ]
  },
  {
   "cell_type": "code",
   "execution_count": null,
   "metadata": {},
   "outputs": [],
   "source": [
    "#Questão 03:\n",
    "\n",
    "frase = \"python é uma linguagem de progamação poderosa e fácil de aprender A.\"\n",
    "print(frase)\n",
    "\n",
    "print()\n",
    "\n",
    "for letras in frase:\n",
    "    frasen = letras.replace(\"*\")"
   ]
  },
  {
   "cell_type": "code",
   "execution_count": null,
   "metadata": {},
   "outputs": [],
   "source": [
    "a = \"a\"\n",
    "aa = a.replace(\"*\")"
   ]
  }
 ],
 "metadata": {
  "kernelspec": {
   "display_name": "Python 3 (ipykernel)",
   "language": "python",
   "name": "python3"
  }
 },
 "nbformat": 4,
 "nbformat_minor": 2
}
